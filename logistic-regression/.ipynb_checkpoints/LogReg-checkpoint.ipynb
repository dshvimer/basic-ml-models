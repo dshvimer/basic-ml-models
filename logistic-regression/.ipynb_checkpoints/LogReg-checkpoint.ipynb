{
 "cells": [
  {
   "cell_type": "code",
   "execution_count": 1,
   "metadata": {},
   "outputs": [],
   "source": [
    "import numpy as np\n",
    "from scipy.io import arff\n",
    "import pandas as pd\n",
    "import matplotlib.pyplot as plt\n",
    "%matplotlib inline"
   ]
  },
  {
   "cell_type": "code",
   "execution_count": 2,
   "metadata": {},
   "outputs": [],
   "source": [
    "fit_loader = arff.loadarff('fit_class.arff')\n",
    "test_loader = arff.loadarff('test_class.arff')\n",
    "fit = pd.DataFrame(fit_loader[0])\n",
    "test = pd.DataFrame(test_loader[0])"
   ]
  },
  {
   "cell_type": "code",
   "execution_count": 3,
   "metadata": {},
   "outputs": [
    {
     "data": {
      "text/html": [
       "<div>\n",
       "<style scoped>\n",
       "    .dataframe tbody tr th:only-of-type {\n",
       "        vertical-align: middle;\n",
       "    }\n",
       "\n",
       "    .dataframe tbody tr th {\n",
       "        vertical-align: top;\n",
       "    }\n",
       "\n",
       "    .dataframe thead th {\n",
       "        text-align: right;\n",
       "    }\n",
       "</style>\n",
       "<table border=\"1\" class=\"dataframe\">\n",
       "  <thead>\n",
       "    <tr style=\"text-align: right;\">\n",
       "      <th></th>\n",
       "      <th>NUMUORS</th>\n",
       "      <th>NUMUANDS</th>\n",
       "      <th>TOTOTORS</th>\n",
       "      <th>TOTOPANDS</th>\n",
       "      <th>VG</th>\n",
       "      <th>NLOGIC</th>\n",
       "      <th>LOC</th>\n",
       "      <th>ELOC</th>\n",
       "      <th>CLASS</th>\n",
       "    </tr>\n",
       "  </thead>\n",
       "  <tbody>\n",
       "    <tr>\n",
       "      <th>0</th>\n",
       "      <td>22.0</td>\n",
       "      <td>85.0</td>\n",
       "      <td>203.0</td>\n",
       "      <td>174.0</td>\n",
       "      <td>9.0</td>\n",
       "      <td>0.0</td>\n",
       "      <td>362.0</td>\n",
       "      <td>40.0</td>\n",
       "      <td>b'nfp'</td>\n",
       "    </tr>\n",
       "    <tr>\n",
       "      <th>1</th>\n",
       "      <td>21.0</td>\n",
       "      <td>87.0</td>\n",
       "      <td>186.0</td>\n",
       "      <td>165.0</td>\n",
       "      <td>5.0</td>\n",
       "      <td>0.0</td>\n",
       "      <td>379.0</td>\n",
       "      <td>32.0</td>\n",
       "      <td>b'nfp'</td>\n",
       "    </tr>\n",
       "    <tr>\n",
       "      <th>2</th>\n",
       "      <td>30.0</td>\n",
       "      <td>107.0</td>\n",
       "      <td>405.0</td>\n",
       "      <td>306.0</td>\n",
       "      <td>25.0</td>\n",
       "      <td>0.0</td>\n",
       "      <td>756.0</td>\n",
       "      <td>99.0</td>\n",
       "      <td>b'nfp'</td>\n",
       "    </tr>\n",
       "    <tr>\n",
       "      <th>3</th>\n",
       "      <td>6.0</td>\n",
       "      <td>5.0</td>\n",
       "      <td>19.0</td>\n",
       "      <td>6.0</td>\n",
       "      <td>2.0</td>\n",
       "      <td>0.0</td>\n",
       "      <td>160.0</td>\n",
       "      <td>9.0</td>\n",
       "      <td>b'nfp'</td>\n",
       "    </tr>\n",
       "    <tr>\n",
       "      <th>4</th>\n",
       "      <td>21.0</td>\n",
       "      <td>47.0</td>\n",
       "      <td>168.0</td>\n",
       "      <td>148.0</td>\n",
       "      <td>7.0</td>\n",
       "      <td>0.0</td>\n",
       "      <td>352.0</td>\n",
       "      <td>29.0</td>\n",
       "      <td>b'nfp'</td>\n",
       "    </tr>\n",
       "  </tbody>\n",
       "</table>\n",
       "</div>"
      ],
      "text/plain": [
       "   NUMUORS  NUMUANDS  TOTOTORS  TOTOPANDS    VG  NLOGIC    LOC  ELOC   CLASS\n",
       "0     22.0      85.0     203.0      174.0   9.0     0.0  362.0  40.0  b'nfp'\n",
       "1     21.0      87.0     186.0      165.0   5.0     0.0  379.0  32.0  b'nfp'\n",
       "2     30.0     107.0     405.0      306.0  25.0     0.0  756.0  99.0  b'nfp'\n",
       "3      6.0       5.0      19.0        6.0   2.0     0.0  160.0   9.0  b'nfp'\n",
       "4     21.0      47.0     168.0      148.0   7.0     0.0  352.0  29.0  b'nfp'"
      ]
     },
     "execution_count": 3,
     "metadata": {},
     "output_type": "execute_result"
    }
   ],
   "source": [
    "fit.head()"
   ]
  },
  {
   "cell_type": "code",
   "execution_count": 32,
   "metadata": {},
   "outputs": [
    {
     "data": {
      "text/html": [
       "<div>\n",
       "<style scoped>\n",
       "    .dataframe tbody tr th:only-of-type {\n",
       "        vertical-align: middle;\n",
       "    }\n",
       "\n",
       "    .dataframe tbody tr th {\n",
       "        vertical-align: top;\n",
       "    }\n",
       "\n",
       "    .dataframe thead th {\n",
       "        text-align: right;\n",
       "    }\n",
       "</style>\n",
       "<table border=\"1\" class=\"dataframe\">\n",
       "  <thead>\n",
       "    <tr style=\"text-align: right;\">\n",
       "      <th></th>\n",
       "      <th>NUMUORS</th>\n",
       "      <th>NUMUANDS</th>\n",
       "      <th>TOTOTORS</th>\n",
       "      <th>TOTOPANDS</th>\n",
       "      <th>VG</th>\n",
       "      <th>NLOGIC</th>\n",
       "      <th>LOC</th>\n",
       "      <th>ELOC</th>\n",
       "      <th>FAULTS</th>\n",
       "    </tr>\n",
       "  </thead>\n",
       "  <tbody>\n",
       "    <tr>\n",
       "      <th>93</th>\n",
       "      <td>72.0</td>\n",
       "      <td>737.0</td>\n",
       "      <td>5163.0</td>\n",
       "      <td>4603.0</td>\n",
       "      <td>169.0</td>\n",
       "      <td>25.0</td>\n",
       "      <td>4530.0</td>\n",
       "      <td>665.0</td>\n",
       "      <td>42.0</td>\n",
       "    </tr>\n",
       "    <tr>\n",
       "      <th>92</th>\n",
       "      <td>53.0</td>\n",
       "      <td>430.0</td>\n",
       "      <td>3063.0</td>\n",
       "      <td>2668.0</td>\n",
       "      <td>108.0</td>\n",
       "      <td>23.0</td>\n",
       "      <td>2954.0</td>\n",
       "      <td>429.0</td>\n",
       "      <td>25.0</td>\n",
       "    </tr>\n",
       "    <tr>\n",
       "      <th>91</th>\n",
       "      <td>55.0</td>\n",
       "      <td>363.0</td>\n",
       "      <td>2378.0</td>\n",
       "      <td>1933.0</td>\n",
       "      <td>109.0</td>\n",
       "      <td>20.0</td>\n",
       "      <td>2680.0</td>\n",
       "      <td>437.0</td>\n",
       "      <td>19.0</td>\n",
       "    </tr>\n",
       "    <tr>\n",
       "      <th>90</th>\n",
       "      <td>52.0</td>\n",
       "      <td>208.0</td>\n",
       "      <td>1134.0</td>\n",
       "      <td>814.0</td>\n",
       "      <td>58.0</td>\n",
       "      <td>2.0</td>\n",
       "      <td>1540.0</td>\n",
       "      <td>204.0</td>\n",
       "      <td>15.0</td>\n",
       "    </tr>\n",
       "    <tr>\n",
       "      <th>89</th>\n",
       "      <td>49.0</td>\n",
       "      <td>375.0</td>\n",
       "      <td>1645.0</td>\n",
       "      <td>1496.0</td>\n",
       "      <td>57.0</td>\n",
       "      <td>21.0</td>\n",
       "      <td>1404.0</td>\n",
       "      <td>242.0</td>\n",
       "      <td>12.0</td>\n",
       "    </tr>\n",
       "  </tbody>\n",
       "</table>\n",
       "</div>"
      ],
      "text/plain": [
       "    NUMUORS  NUMUANDS  TOTOTORS  TOTOPANDS     VG  NLOGIC     LOC   ELOC  \\\n",
       "93     72.0     737.0    5163.0     4603.0  169.0    25.0  4530.0  665.0   \n",
       "92     53.0     430.0    3063.0     2668.0  108.0    23.0  2954.0  429.0   \n",
       "91     55.0     363.0    2378.0     1933.0  109.0    20.0  2680.0  437.0   \n",
       "90     52.0     208.0    1134.0      814.0   58.0     2.0  1540.0  204.0   \n",
       "89     49.0     375.0    1645.0     1496.0   57.0    21.0  1404.0  242.0   \n",
       "\n",
       "    FAULTS  \n",
       "93    42.0  \n",
       "92    25.0  \n",
       "91    19.0  \n",
       "90    15.0  \n",
       "89    12.0  "
      ]
     },
     "execution_count": 32,
     "metadata": {},
     "output_type": "execute_result"
    }
   ],
   "source": [
    "test.head()"
   ]
  },
  {
   "cell_type": "code",
   "execution_count": 33,
   "metadata": {},
   "outputs": [],
   "source": [
    "def m5_model(x):\n",
    "    FAULTS = -0.0516 * x.NUMUORS + 0.0341 * x.NUMUANDS - 0.0027 * x.TOTOTORS - 0.0372 * x.VG + 0.2119 * x.NLOGIC + 0.0018 * x.LOC + 0.005 * x.ELOC - 0.3091\n",
    "    return FAULTS"
   ]
  },
  {
   "cell_type": "code",
   "execution_count": 34,
   "metadata": {},
   "outputs": [],
   "source": [
    "def greedy_model(x):\n",
    "    FAULTS = -0.0482 * x.NUMUORS + 0.0336 * x.NUMUANDS - 0.0021 * x.TOTOTORS - 0.0337 * x.VG + 0.2088 * x.NLOGIC + 0.0019 * x.LOC - 0.3255\n",
    "    return FAULTS"
   ]
  },
  {
   "cell_type": "code",
   "execution_count": 35,
   "metadata": {},
   "outputs": [
    {
     "data": {
      "text/html": [
       "<div>\n",
       "<style scoped>\n",
       "    .dataframe tbody tr th:only-of-type {\n",
       "        vertical-align: middle;\n",
       "    }\n",
       "\n",
       "    .dataframe tbody tr th {\n",
       "        vertical-align: top;\n",
       "    }\n",
       "\n",
       "    .dataframe thead th {\n",
       "        text-align: right;\n",
       "    }\n",
       "</style>\n",
       "<table border=\"1\" class=\"dataframe\">\n",
       "  <thead>\n",
       "    <tr style=\"text-align: right;\">\n",
       "      <th></th>\n",
       "      <th>NUMUORS</th>\n",
       "      <th>NUMUANDS</th>\n",
       "      <th>TOTOTORS</th>\n",
       "      <th>TOTOPANDS</th>\n",
       "      <th>VG</th>\n",
       "      <th>NLOGIC</th>\n",
       "      <th>LOC</th>\n",
       "      <th>ELOC</th>\n",
       "      <th>FAULTS</th>\n",
       "      <th>Faults M5</th>\n",
       "      <th>Faults Greedy</th>\n",
       "    </tr>\n",
       "  </thead>\n",
       "  <tbody>\n",
       "    <tr>\n",
       "      <th>187</th>\n",
       "      <td>63.0</td>\n",
       "      <td>633.0</td>\n",
       "      <td>4180.0</td>\n",
       "      <td>3748.0</td>\n",
       "      <td>145.0</td>\n",
       "      <td>30.0</td>\n",
       "      <td>3991.0</td>\n",
       "      <td>607.0</td>\n",
       "      <td>29.0</td>\n",
       "      <td>17.9212</td>\n",
       "      <td>18.0891</td>\n",
       "    </tr>\n",
       "    <tr>\n",
       "      <th>186</th>\n",
       "      <td>66.0</td>\n",
       "      <td>1124.0</td>\n",
       "      <td>8606.0</td>\n",
       "      <td>7736.0</td>\n",
       "      <td>448.0</td>\n",
       "      <td>31.0</td>\n",
       "      <td>9163.0</td>\n",
       "      <td>1412.0</td>\n",
       "      <td>29.0</td>\n",
       "      <td>24.8342</td>\n",
       "      <td>24.9720</td>\n",
       "    </tr>\n",
       "    <tr>\n",
       "      <th>185</th>\n",
       "      <td>42.0</td>\n",
       "      <td>318.0</td>\n",
       "      <td>1715.0</td>\n",
       "      <td>1477.0</td>\n",
       "      <td>52.0</td>\n",
       "      <td>17.0</td>\n",
       "      <td>3336.0</td>\n",
       "      <td>300.0</td>\n",
       "      <td>22.0</td>\n",
       "      <td>12.9097</td>\n",
       "      <td>12.8690</td>\n",
       "    </tr>\n",
       "    <tr>\n",
       "      <th>184</th>\n",
       "      <td>61.0</td>\n",
       "      <td>453.0</td>\n",
       "      <td>2364.0</td>\n",
       "      <td>2023.0</td>\n",
       "      <td>74.0</td>\n",
       "      <td>58.0</td>\n",
       "      <td>3374.0</td>\n",
       "      <td>367.0</td>\n",
       "      <td>20.0</td>\n",
       "      <td>23.0534</td>\n",
       "      <td>23.0179</td>\n",
       "    </tr>\n",
       "    <tr>\n",
       "      <th>183</th>\n",
       "      <td>32.0</td>\n",
       "      <td>303.0</td>\n",
       "      <td>1085.0</td>\n",
       "      <td>990.0</td>\n",
       "      <td>34.0</td>\n",
       "      <td>4.0</td>\n",
       "      <td>1323.0</td>\n",
       "      <td>161.0</td>\n",
       "      <td>16.0</td>\n",
       "      <td>8.2117</td>\n",
       "      <td>8.2375</td>\n",
       "    </tr>\n",
       "  </tbody>\n",
       "</table>\n",
       "</div>"
      ],
      "text/plain": [
       "     NUMUORS  NUMUANDS  TOTOTORS  TOTOPANDS     VG  NLOGIC     LOC    ELOC  \\\n",
       "187     63.0     633.0    4180.0     3748.0  145.0    30.0  3991.0   607.0   \n",
       "186     66.0    1124.0    8606.0     7736.0  448.0    31.0  9163.0  1412.0   \n",
       "185     42.0     318.0    1715.0     1477.0   52.0    17.0  3336.0   300.0   \n",
       "184     61.0     453.0    2364.0     2023.0   74.0    58.0  3374.0   367.0   \n",
       "183     32.0     303.0    1085.0      990.0   34.0     4.0  1323.0   161.0   \n",
       "\n",
       "     FAULTS  Faults M5  Faults Greedy  \n",
       "187    29.0    17.9212        18.0891  \n",
       "186    29.0    24.8342        24.9720  \n",
       "185    22.0    12.9097        12.8690  \n",
       "184    20.0    23.0534        23.0179  \n",
       "183    16.0     8.2117         8.2375  "
      ]
     },
     "execution_count": 35,
     "metadata": {},
     "output_type": "execute_result"
    }
   ],
   "source": [
    "fit['Faults M5'] = m5_model(fit)\n",
    "fit['Faults Greedy'] = greedy_model(fit)\n",
    "\n",
    "test['Faults M5'] = m5_model(test)\n",
    "test['Faults Greedy'] = greedy_model(test)\n",
    "\n",
    "fit.head()"
   ]
  },
  {
   "cell_type": "code",
   "execution_count": 60,
   "metadata": {
    "scrolled": true
   },
   "outputs": [
    {
     "data": {
      "text/html": [
       "<div>\n",
       "<style scoped>\n",
       "    .dataframe tbody tr th:only-of-type {\n",
       "        vertical-align: middle;\n",
       "    }\n",
       "\n",
       "    .dataframe tbody tr th {\n",
       "        vertical-align: top;\n",
       "    }\n",
       "\n",
       "    .dataframe thead th {\n",
       "        text-align: right;\n",
       "    }\n",
       "</style>\n",
       "<table border=\"1\" class=\"dataframe\">\n",
       "  <thead>\n",
       "    <tr style=\"text-align: right;\">\n",
       "      <th></th>\n",
       "      <th>NUMUORS</th>\n",
       "      <th>NUMUANDS</th>\n",
       "      <th>TOTOTORS</th>\n",
       "      <th>TOTOPANDS</th>\n",
       "      <th>VG</th>\n",
       "      <th>NLOGIC</th>\n",
       "      <th>LOC</th>\n",
       "      <th>ELOC</th>\n",
       "      <th>FAULTS</th>\n",
       "      <th>Faults M5</th>\n",
       "      <th>Faults Greedy</th>\n",
       "    </tr>\n",
       "  </thead>\n",
       "  <tbody>\n",
       "    <tr>\n",
       "      <th>93</th>\n",
       "      <td>72.0</td>\n",
       "      <td>737.0</td>\n",
       "      <td>5163.0</td>\n",
       "      <td>4603.0</td>\n",
       "      <td>169.0</td>\n",
       "      <td>25.0</td>\n",
       "      <td>4530.0</td>\n",
       "      <td>665.0</td>\n",
       "      <td>42.0</td>\n",
       "      <td>17.6570</td>\n",
       "      <td>18.2567</td>\n",
       "    </tr>\n",
       "    <tr>\n",
       "      <th>92</th>\n",
       "      <td>53.0</td>\n",
       "      <td>430.0</td>\n",
       "      <td>3063.0</td>\n",
       "      <td>2668.0</td>\n",
       "      <td>108.0</td>\n",
       "      <td>23.0</td>\n",
       "      <td>2954.0</td>\n",
       "      <td>429.0</td>\n",
       "      <td>25.0</td>\n",
       "      <td>11.6673</td>\n",
       "      <td>11.9110</td>\n",
       "    </tr>\n",
       "    <tr>\n",
       "      <th>91</th>\n",
       "      <td>55.0</td>\n",
       "      <td>363.0</td>\n",
       "      <td>2378.0</td>\n",
       "      <td>1933.0</td>\n",
       "      <td>109.0</td>\n",
       "      <td>20.0</td>\n",
       "      <td>2680.0</td>\n",
       "      <td>437.0</td>\n",
       "      <td>19.0</td>\n",
       "      <td>10.0028</td>\n",
       "      <td>9.8212</td>\n",
       "    </tr>\n",
       "    <tr>\n",
       "      <th>90</th>\n",
       "      <td>52.0</td>\n",
       "      <td>208.0</td>\n",
       "      <td>1134.0</td>\n",
       "      <td>814.0</td>\n",
       "      <td>58.0</td>\n",
       "      <td>2.0</td>\n",
       "      <td>1540.0</td>\n",
       "      <td>204.0</td>\n",
       "      <td>15.0</td>\n",
       "      <td>3.0969</td>\n",
       "      <td>3.1645</td>\n",
       "    </tr>\n",
       "    <tr>\n",
       "      <th>89</th>\n",
       "      <td>49.0</td>\n",
       "      <td>375.0</td>\n",
       "      <td>1645.0</td>\n",
       "      <td>1496.0</td>\n",
       "      <td>57.0</td>\n",
       "      <td>21.0</td>\n",
       "      <td>1404.0</td>\n",
       "      <td>242.0</td>\n",
       "      <td>12.0</td>\n",
       "      <td>11.5752</td>\n",
       "      <td>11.5897</td>\n",
       "    </tr>\n",
       "    <tr>\n",
       "      <th>88</th>\n",
       "      <td>36.0</td>\n",
       "      <td>297.0</td>\n",
       "      <td>1234.0</td>\n",
       "      <td>1106.0</td>\n",
       "      <td>31.0</td>\n",
       "      <td>0.0</td>\n",
       "      <td>1066.0</td>\n",
       "      <td>137.0</td>\n",
       "      <td>12.0</td>\n",
       "      <td>6.0798</td>\n",
       "      <td>6.3078</td>\n",
       "    </tr>\n",
       "    <tr>\n",
       "      <th>87</th>\n",
       "      <td>44.0</td>\n",
       "      <td>241.0</td>\n",
       "      <td>1239.0</td>\n",
       "      <td>1044.0</td>\n",
       "      <td>69.0</td>\n",
       "      <td>2.0</td>\n",
       "      <td>1448.0</td>\n",
       "      <td>225.0</td>\n",
       "      <td>10.0</td>\n",
       "      <td>3.8817</td>\n",
       "      <td>3.8929</td>\n",
       "    </tr>\n",
       "    <tr>\n",
       "      <th>86</th>\n",
       "      <td>29.0</td>\n",
       "      <td>141.0</td>\n",
       "      <td>363.0</td>\n",
       "      <td>307.0</td>\n",
       "      <td>19.0</td>\n",
       "      <td>1.0</td>\n",
       "      <td>727.0</td>\n",
       "      <td>80.0</td>\n",
       "      <td>9.0</td>\n",
       "      <td>3.2362</td>\n",
       "      <td>3.2018</td>\n",
       "    </tr>\n",
       "    <tr>\n",
       "      <th>85</th>\n",
       "      <td>88.0</td>\n",
       "      <td>450.0</td>\n",
       "      <td>2189.0</td>\n",
       "      <td>1703.0</td>\n",
       "      <td>127.0</td>\n",
       "      <td>23.0</td>\n",
       "      <td>2927.0</td>\n",
       "      <td>450.0</td>\n",
       "      <td>8.0</td>\n",
       "      <td>12.2527</td>\n",
       "      <td>12.0398</td>\n",
       "    </tr>\n",
       "    <tr>\n",
       "      <th>84</th>\n",
       "      <td>52.0</td>\n",
       "      <td>313.0</td>\n",
       "      <td>1170.0</td>\n",
       "      <td>1038.0</td>\n",
       "      <td>47.0</td>\n",
       "      <td>1.0</td>\n",
       "      <td>1171.0</td>\n",
       "      <td>211.0</td>\n",
       "      <td>7.0</td>\n",
       "      <td>6.1483</td>\n",
       "      <td>6.0777</td>\n",
       "    </tr>\n",
       "  </tbody>\n",
       "</table>\n",
       "</div>"
      ],
      "text/plain": [
       "    NUMUORS  NUMUANDS  TOTOTORS  TOTOPANDS     VG  NLOGIC     LOC   ELOC  \\\n",
       "93     72.0     737.0    5163.0     4603.0  169.0    25.0  4530.0  665.0   \n",
       "92     53.0     430.0    3063.0     2668.0  108.0    23.0  2954.0  429.0   \n",
       "91     55.0     363.0    2378.0     1933.0  109.0    20.0  2680.0  437.0   \n",
       "90     52.0     208.0    1134.0      814.0   58.0     2.0  1540.0  204.0   \n",
       "89     49.0     375.0    1645.0     1496.0   57.0    21.0  1404.0  242.0   \n",
       "88     36.0     297.0    1234.0     1106.0   31.0     0.0  1066.0  137.0   \n",
       "87     44.0     241.0    1239.0     1044.0   69.0     2.0  1448.0  225.0   \n",
       "86     29.0     141.0     363.0      307.0   19.0     1.0   727.0   80.0   \n",
       "85     88.0     450.0    2189.0     1703.0  127.0    23.0  2927.0  450.0   \n",
       "84     52.0     313.0    1170.0     1038.0   47.0     1.0  1171.0  211.0   \n",
       "\n",
       "    FAULTS  Faults M5  Faults Greedy  \n",
       "93    42.0    17.6570        18.2567  \n",
       "92    25.0    11.6673        11.9110  \n",
       "91    19.0    10.0028         9.8212  \n",
       "90    15.0     3.0969         3.1645  \n",
       "89    12.0    11.5752        11.5897  \n",
       "88    12.0     6.0798         6.3078  \n",
       "87    10.0     3.8817         3.8929  \n",
       "86     9.0     3.2362         3.2018  \n",
       "85     8.0    12.2527        12.0398  \n",
       "84     7.0     6.1483         6.0777  "
      ]
     },
     "execution_count": 60,
     "metadata": {},
     "output_type": "execute_result"
    }
   ],
   "source": [
    "test.head(10)"
   ]
  },
  {
   "cell_type": "code",
   "execution_count": 37,
   "metadata": {},
   "outputs": [],
   "source": [
    "cutoffs = [95, 90, 85, 80, 75, 70, 65, 60, 55, 50]"
   ]
  },
  {
   "cell_type": "code",
   "execution_count": 38,
   "metadata": {},
   "outputs": [],
   "source": [
    "def results(data, cutoff, method):\n",
    "    n = 100 - cutoff\n",
    "    G_c = data.head(int(len(data)*(n/100)))['FAULTS'].sum() / data['FAULTS'].sum()\n",
    "    sorted_data = data.sort_values(by='Faults ' + method, ascending=False)\n",
    "    G_hat_c = sorted_data.head(int(len(data)*(n/100)))['Faults ' + method].sum() / data['FAULTS'].sum()\n",
    "    return {\n",
    "        'cutoff': cutoff,\n",
    "        'mod': n,\n",
    "        'Gc': G_c,\n",
    "        'Ghatc': G_hat_c,\n",
    "        'Phi': G_hat_c / G_c\n",
    "    }"
   ]
  },
  {
   "cell_type": "code",
   "execution_count": 39,
   "metadata": {},
   "outputs": [
    {
     "data": {
      "text/plain": [
       "{'cutoff': 50,\n",
       " 'mod': 50,\n",
       " 'Gc': 1.0,\n",
       " 'Ghatc': 0.9879028103044494,\n",
       " 'Phi': 0.9879028103044494}"
      ]
     },
     "execution_count": 39,
     "metadata": {},
     "output_type": "execute_result"
    }
   ],
   "source": [
    "results(fit, 50, 'M5')"
   ]
  },
  {
   "cell_type": "code",
   "execution_count": 41,
   "metadata": {},
   "outputs": [],
   "source": [
    "temp = [results(fit, c, 'M5') for c in cutoffs]\n",
    "m5_fit_results = pd.DataFrame(temp)\n",
    "\n",
    "temp = [results(test, c, 'M5') for c in cutoffs]\n",
    "m5_test_results = pd.DataFrame(temp)\n",
    "\n",
    "temp = [results(fit, c, 'Greedy') for c in cutoffs]\n",
    "greedy_fit_results = pd.DataFrame(temp)\n",
    "\n",
    "temp = [results(test, c, 'Greedy') for c in cutoffs]\n",
    "greedy_test_results = pd.DataFrame(temp)"
   ]
  },
  {
   "cell_type": "code",
   "execution_count": 42,
   "metadata": {},
   "outputs": [
    {
     "data": {
      "text/html": [
       "<div>\n",
       "<style scoped>\n",
       "    .dataframe tbody tr th:only-of-type {\n",
       "        vertical-align: middle;\n",
       "    }\n",
       "\n",
       "    .dataframe tbody tr th {\n",
       "        vertical-align: top;\n",
       "    }\n",
       "\n",
       "    .dataframe thead th {\n",
       "        text-align: right;\n",
       "    }\n",
       "</style>\n",
       "<table border=\"1\" class=\"dataframe\">\n",
       "  <thead>\n",
       "    <tr style=\"text-align: right;\">\n",
       "      <th></th>\n",
       "      <th>Gc</th>\n",
       "      <th>Ghatc</th>\n",
       "      <th>Phi</th>\n",
       "      <th>cutoff</th>\n",
       "      <th>mod</th>\n",
       "    </tr>\n",
       "  </thead>\n",
       "  <tbody>\n",
       "    <tr>\n",
       "      <th>0</th>\n",
       "      <td>0.398126</td>\n",
       "      <td>0.340311</td>\n",
       "      <td>0.854782</td>\n",
       "      <td>95</td>\n",
       "      <td>5</td>\n",
       "    </tr>\n",
       "    <tr>\n",
       "      <th>1</th>\n",
       "      <td>0.599532</td>\n",
       "      <td>0.542208</td>\n",
       "      <td>0.904387</td>\n",
       "      <td>90</td>\n",
       "      <td>10</td>\n",
       "    </tr>\n",
       "    <tr>\n",
       "      <th>2</th>\n",
       "      <td>0.730679</td>\n",
       "      <td>0.666456</td>\n",
       "      <td>0.912104</td>\n",
       "      <td>85</td>\n",
       "      <td>15</td>\n",
       "    </tr>\n",
       "    <tr>\n",
       "      <th>3</th>\n",
       "      <td>0.817330</td>\n",
       "      <td>0.743406</td>\n",
       "      <td>0.909554</td>\n",
       "      <td>80</td>\n",
       "      <td>20</td>\n",
       "    </tr>\n",
       "    <tr>\n",
       "      <th>4</th>\n",
       "      <td>0.880562</td>\n",
       "      <td>0.810063</td>\n",
       "      <td>0.919938</td>\n",
       "      <td>75</td>\n",
       "      <td>25</td>\n",
       "    </tr>\n",
       "    <tr>\n",
       "      <th>5</th>\n",
       "      <td>0.920375</td>\n",
       "      <td>0.855915</td>\n",
       "      <td>0.929964</td>\n",
       "      <td>70</td>\n",
       "      <td>30</td>\n",
       "    </tr>\n",
       "    <tr>\n",
       "      <th>6</th>\n",
       "      <td>0.941452</td>\n",
       "      <td>0.893989</td>\n",
       "      <td>0.949586</td>\n",
       "      <td>65</td>\n",
       "      <td>35</td>\n",
       "    </tr>\n",
       "    <tr>\n",
       "      <th>7</th>\n",
       "      <td>0.964871</td>\n",
       "      <td>0.932000</td>\n",
       "      <td>0.965932</td>\n",
       "      <td>60</td>\n",
       "      <td>40</td>\n",
       "    </tr>\n",
       "    <tr>\n",
       "      <th>8</th>\n",
       "      <td>0.985948</td>\n",
       "      <td>0.962468</td>\n",
       "      <td>0.976185</td>\n",
       "      <td>55</td>\n",
       "      <td>45</td>\n",
       "    </tr>\n",
       "    <tr>\n",
       "      <th>9</th>\n",
       "      <td>1.000000</td>\n",
       "      <td>0.987903</td>\n",
       "      <td>0.987903</td>\n",
       "      <td>50</td>\n",
       "      <td>50</td>\n",
       "    </tr>\n",
       "  </tbody>\n",
       "</table>\n",
       "</div>"
      ],
      "text/plain": [
       "         Gc     Ghatc       Phi  cutoff  mod\n",
       "0  0.398126  0.340311  0.854782      95    5\n",
       "1  0.599532  0.542208  0.904387      90   10\n",
       "2  0.730679  0.666456  0.912104      85   15\n",
       "3  0.817330  0.743406  0.909554      80   20\n",
       "4  0.880562  0.810063  0.919938      75   25\n",
       "5  0.920375  0.855915  0.929964      70   30\n",
       "6  0.941452  0.893989  0.949586      65   35\n",
       "7  0.964871  0.932000  0.965932      60   40\n",
       "8  0.985948  0.962468  0.976185      55   45\n",
       "9  1.000000  0.987903  0.987903      50   50"
      ]
     },
     "execution_count": 42,
     "metadata": {},
     "output_type": "execute_result"
    }
   ],
   "source": [
    "m5_fit_results.head(len(cutoffs))"
   ]
  },
  {
   "cell_type": "code",
   "execution_count": 43,
   "metadata": {},
   "outputs": [
    {
     "data": {
      "text/html": [
       "<div>\n",
       "<style scoped>\n",
       "    .dataframe tbody tr th:only-of-type {\n",
       "        vertical-align: middle;\n",
       "    }\n",
       "\n",
       "    .dataframe tbody tr th {\n",
       "        vertical-align: top;\n",
       "    }\n",
       "\n",
       "    .dataframe thead th {\n",
       "        text-align: right;\n",
       "    }\n",
       "</style>\n",
       "<table border=\"1\" class=\"dataframe\">\n",
       "  <thead>\n",
       "    <tr style=\"text-align: right;\">\n",
       "      <th></th>\n",
       "      <th>Gc</th>\n",
       "      <th>Ghatc</th>\n",
       "      <th>Phi</th>\n",
       "      <th>cutoff</th>\n",
       "      <th>mod</th>\n",
       "    </tr>\n",
       "  </thead>\n",
       "  <tbody>\n",
       "    <tr>\n",
       "      <th>0</th>\n",
       "      <td>0.419087</td>\n",
       "      <td>0.220549</td>\n",
       "      <td>0.526259</td>\n",
       "      <td>95</td>\n",
       "      <td>5</td>\n",
       "    </tr>\n",
       "    <tr>\n",
       "      <th>1</th>\n",
       "      <td>0.630705</td>\n",
       "      <td>0.389471</td>\n",
       "      <td>0.617516</td>\n",
       "      <td>90</td>\n",
       "      <td>10</td>\n",
       "    </tr>\n",
       "    <tr>\n",
       "      <th>2</th>\n",
       "      <td>0.751037</td>\n",
       "      <td>0.474230</td>\n",
       "      <td>0.631433</td>\n",
       "      <td>85</td>\n",
       "      <td>15</td>\n",
       "    </tr>\n",
       "    <tr>\n",
       "      <th>3</th>\n",
       "      <td>0.821577</td>\n",
       "      <td>0.525389</td>\n",
       "      <td>0.639489</td>\n",
       "      <td>80</td>\n",
       "      <td>20</td>\n",
       "    </tr>\n",
       "    <tr>\n",
       "      <th>4</th>\n",
       "      <td>0.883817</td>\n",
       "      <td>0.576532</td>\n",
       "      <td>0.652321</td>\n",
       "      <td>75</td>\n",
       "      <td>25</td>\n",
       "    </tr>\n",
       "    <tr>\n",
       "      <th>5</th>\n",
       "      <td>0.925311</td>\n",
       "      <td>0.611252</td>\n",
       "      <td>0.660591</td>\n",
       "      <td>70</td>\n",
       "      <td>30</td>\n",
       "    </tr>\n",
       "    <tr>\n",
       "      <th>6</th>\n",
       "      <td>0.941909</td>\n",
       "      <td>0.636447</td>\n",
       "      <td>0.675699</td>\n",
       "      <td>65</td>\n",
       "      <td>35</td>\n",
       "    </tr>\n",
       "    <tr>\n",
       "      <th>7</th>\n",
       "      <td>0.962656</td>\n",
       "      <td>0.665282</td>\n",
       "      <td>0.691091</td>\n",
       "      <td>60</td>\n",
       "      <td>40</td>\n",
       "    </tr>\n",
       "    <tr>\n",
       "      <th>8</th>\n",
       "      <td>0.983402</td>\n",
       "      <td>0.690140</td>\n",
       "      <td>0.701788</td>\n",
       "      <td>55</td>\n",
       "      <td>45</td>\n",
       "    </tr>\n",
       "    <tr>\n",
       "      <th>9</th>\n",
       "      <td>1.000000</td>\n",
       "      <td>0.709055</td>\n",
       "      <td>0.709055</td>\n",
       "      <td>50</td>\n",
       "      <td>50</td>\n",
       "    </tr>\n",
       "  </tbody>\n",
       "</table>\n",
       "</div>"
      ],
      "text/plain": [
       "         Gc     Ghatc       Phi  cutoff  mod\n",
       "0  0.419087  0.220549  0.526259      95    5\n",
       "1  0.630705  0.389471  0.617516      90   10\n",
       "2  0.751037  0.474230  0.631433      85   15\n",
       "3  0.821577  0.525389  0.639489      80   20\n",
       "4  0.883817  0.576532  0.652321      75   25\n",
       "5  0.925311  0.611252  0.660591      70   30\n",
       "6  0.941909  0.636447  0.675699      65   35\n",
       "7  0.962656  0.665282  0.691091      60   40\n",
       "8  0.983402  0.690140  0.701788      55   45\n",
       "9  1.000000  0.709055  0.709055      50   50"
      ]
     },
     "execution_count": 43,
     "metadata": {},
     "output_type": "execute_result"
    }
   ],
   "source": [
    "m5_test_results.head(len(cutoffs))"
   ]
  },
  {
   "cell_type": "code",
   "execution_count": 44,
   "metadata": {},
   "outputs": [
    {
     "data": {
      "text/html": [
       "<div>\n",
       "<style scoped>\n",
       "    .dataframe tbody tr th:only-of-type {\n",
       "        vertical-align: middle;\n",
       "    }\n",
       "\n",
       "    .dataframe tbody tr th {\n",
       "        vertical-align: top;\n",
       "    }\n",
       "\n",
       "    .dataframe thead th {\n",
       "        text-align: right;\n",
       "    }\n",
       "</style>\n",
       "<table border=\"1\" class=\"dataframe\">\n",
       "  <thead>\n",
       "    <tr style=\"text-align: right;\">\n",
       "      <th></th>\n",
       "      <th>Gc</th>\n",
       "      <th>Ghatc</th>\n",
       "      <th>Phi</th>\n",
       "      <th>cutoff</th>\n",
       "      <th>mod</th>\n",
       "    </tr>\n",
       "  </thead>\n",
       "  <tbody>\n",
       "    <tr>\n",
       "      <th>0</th>\n",
       "      <td>0.398126</td>\n",
       "      <td>0.341127</td>\n",
       "      <td>0.856831</td>\n",
       "      <td>95</td>\n",
       "      <td>5</td>\n",
       "    </tr>\n",
       "    <tr>\n",
       "      <th>1</th>\n",
       "      <td>0.599532</td>\n",
       "      <td>0.538964</td>\n",
       "      <td>0.898976</td>\n",
       "      <td>90</td>\n",
       "      <td>10</td>\n",
       "    </tr>\n",
       "    <tr>\n",
       "      <th>2</th>\n",
       "      <td>0.730679</td>\n",
       "      <td>0.663626</td>\n",
       "      <td>0.908232</td>\n",
       "      <td>85</td>\n",
       "      <td>15</td>\n",
       "    </tr>\n",
       "    <tr>\n",
       "      <th>3</th>\n",
       "      <td>0.817330</td>\n",
       "      <td>0.740272</td>\n",
       "      <td>0.905719</td>\n",
       "      <td>80</td>\n",
       "      <td>20</td>\n",
       "    </tr>\n",
       "    <tr>\n",
       "      <th>4</th>\n",
       "      <td>0.880562</td>\n",
       "      <td>0.807749</td>\n",
       "      <td>0.917310</td>\n",
       "      <td>75</td>\n",
       "      <td>25</td>\n",
       "    </tr>\n",
       "    <tr>\n",
       "      <th>5</th>\n",
       "      <td>0.920375</td>\n",
       "      <td>0.853836</td>\n",
       "      <td>0.927704</td>\n",
       "      <td>70</td>\n",
       "      <td>30</td>\n",
       "    </tr>\n",
       "    <tr>\n",
       "      <th>6</th>\n",
       "      <td>0.941452</td>\n",
       "      <td>0.892131</td>\n",
       "      <td>0.947612</td>\n",
       "      <td>65</td>\n",
       "      <td>35</td>\n",
       "    </tr>\n",
       "    <tr>\n",
       "      <th>7</th>\n",
       "      <td>0.964871</td>\n",
       "      <td>0.930339</td>\n",
       "      <td>0.964210</td>\n",
       "      <td>60</td>\n",
       "      <td>40</td>\n",
       "    </tr>\n",
       "    <tr>\n",
       "      <th>8</th>\n",
       "      <td>0.985948</td>\n",
       "      <td>0.960959</td>\n",
       "      <td>0.974654</td>\n",
       "      <td>55</td>\n",
       "      <td>45</td>\n",
       "    </tr>\n",
       "    <tr>\n",
       "      <th>9</th>\n",
       "      <td>1.000000</td>\n",
       "      <td>0.986048</td>\n",
       "      <td>0.986048</td>\n",
       "      <td>50</td>\n",
       "      <td>50</td>\n",
       "    </tr>\n",
       "  </tbody>\n",
       "</table>\n",
       "</div>"
      ],
      "text/plain": [
       "         Gc     Ghatc       Phi  cutoff  mod\n",
       "0  0.398126  0.341127  0.856831      95    5\n",
       "1  0.599532  0.538964  0.898976      90   10\n",
       "2  0.730679  0.663626  0.908232      85   15\n",
       "3  0.817330  0.740272  0.905719      80   20\n",
       "4  0.880562  0.807749  0.917310      75   25\n",
       "5  0.920375  0.853836  0.927704      70   30\n",
       "6  0.941452  0.892131  0.947612      65   35\n",
       "7  0.964871  0.930339  0.964210      60   40\n",
       "8  0.985948  0.960959  0.974654      55   45\n",
       "9  1.000000  0.986048  0.986048      50   50"
      ]
     },
     "execution_count": 44,
     "metadata": {},
     "output_type": "execute_result"
    }
   ],
   "source": [
    "greedy_fit_results.head(len(cutoffs))"
   ]
  },
  {
   "cell_type": "code",
   "execution_count": 45,
   "metadata": {},
   "outputs": [
    {
     "data": {
      "text/html": [
       "<div>\n",
       "<style scoped>\n",
       "    .dataframe tbody tr th:only-of-type {\n",
       "        vertical-align: middle;\n",
       "    }\n",
       "\n",
       "    .dataframe tbody tr th {\n",
       "        vertical-align: top;\n",
       "    }\n",
       "\n",
       "    .dataframe thead th {\n",
       "        text-align: right;\n",
       "    }\n",
       "</style>\n",
       "<table border=\"1\" class=\"dataframe\">\n",
       "  <thead>\n",
       "    <tr style=\"text-align: right;\">\n",
       "      <th></th>\n",
       "      <th>Gc</th>\n",
       "      <th>Ghatc</th>\n",
       "      <th>Phi</th>\n",
       "      <th>cutoff</th>\n",
       "      <th>mod</th>\n",
       "    </tr>\n",
       "  </thead>\n",
       "  <tbody>\n",
       "    <tr>\n",
       "      <th>0</th>\n",
       "      <td>0.419087</td>\n",
       "      <td>0.223225</td>\n",
       "      <td>0.532646</td>\n",
       "      <td>95</td>\n",
       "      <td>5</td>\n",
       "    </tr>\n",
       "    <tr>\n",
       "      <th>1</th>\n",
       "      <td>0.630705</td>\n",
       "      <td>0.396507</td>\n",
       "      <td>0.628672</td>\n",
       "      <td>90</td>\n",
       "      <td>10</td>\n",
       "    </tr>\n",
       "    <tr>\n",
       "      <th>2</th>\n",
       "      <td>0.751037</td>\n",
       "      <td>0.480856</td>\n",
       "      <td>0.640255</td>\n",
       "      <td>85</td>\n",
       "      <td>15</td>\n",
       "    </tr>\n",
       "    <tr>\n",
       "      <th>3</th>\n",
       "      <td>0.821577</td>\n",
       "      <td>0.532736</td>\n",
       "      <td>0.648431</td>\n",
       "      <td>80</td>\n",
       "      <td>20</td>\n",
       "    </tr>\n",
       "    <tr>\n",
       "      <th>4</th>\n",
       "      <td>0.883817</td>\n",
       "      <td>0.584622</td>\n",
       "      <td>0.661473</td>\n",
       "      <td>75</td>\n",
       "      <td>25</td>\n",
       "    </tr>\n",
       "    <tr>\n",
       "      <th>5</th>\n",
       "      <td>0.925311</td>\n",
       "      <td>0.619742</td>\n",
       "      <td>0.669766</td>\n",
       "      <td>70</td>\n",
       "      <td>30</td>\n",
       "    </tr>\n",
       "    <tr>\n",
       "      <th>6</th>\n",
       "      <td>0.941909</td>\n",
       "      <td>0.645023</td>\n",
       "      <td>0.684804</td>\n",
       "      <td>65</td>\n",
       "      <td>35</td>\n",
       "    </tr>\n",
       "    <tr>\n",
       "      <th>7</th>\n",
       "      <td>0.962656</td>\n",
       "      <td>0.674121</td>\n",
       "      <td>0.700272</td>\n",
       "      <td>60</td>\n",
       "      <td>40</td>\n",
       "    </tr>\n",
       "    <tr>\n",
       "      <th>8</th>\n",
       "      <td>0.983402</td>\n",
       "      <td>0.698959</td>\n",
       "      <td>0.710756</td>\n",
       "      <td>55</td>\n",
       "      <td>45</td>\n",
       "    </tr>\n",
       "    <tr>\n",
       "      <th>9</th>\n",
       "      <td>1.000000</td>\n",
       "      <td>0.718016</td>\n",
       "      <td>0.718016</td>\n",
       "      <td>50</td>\n",
       "      <td>50</td>\n",
       "    </tr>\n",
       "  </tbody>\n",
       "</table>\n",
       "</div>"
      ],
      "text/plain": [
       "         Gc     Ghatc       Phi  cutoff  mod\n",
       "0  0.419087  0.223225  0.532646      95    5\n",
       "1  0.630705  0.396507  0.628672      90   10\n",
       "2  0.751037  0.480856  0.640255      85   15\n",
       "3  0.821577  0.532736  0.648431      80   20\n",
       "4  0.883817  0.584622  0.661473      75   25\n",
       "5  0.925311  0.619742  0.669766      70   30\n",
       "6  0.941909  0.645023  0.684804      65   35\n",
       "7  0.962656  0.674121  0.700272      60   40\n",
       "8  0.983402  0.698959  0.710756      55   45\n",
       "9  1.000000  0.718016  0.718016      50   50"
      ]
     },
     "execution_count": 45,
     "metadata": {},
     "output_type": "execute_result"
    }
   ],
   "source": [
    "greedy_test_results.head(len(cutoffs))"
   ]
  },
  {
   "cell_type": "code",
   "execution_count": 48,
   "metadata": {},
   "outputs": [
    {
     "name": "stdout",
     "output_type": "stream",
     "text": [
      "AUC 2.346004098360661\n"
     ]
    },
    {
     "data": {
      "image/png": "[encoded data removed]",
      "text/plain": [
       "<Figure size 432x288 with 1 Axes>"
      ]
     },
     "metadata": {
      "needs_background": "light"
     },
     "output_type": "display_data"
    },
    {
     "data": {
      "image/png": "[encoded data removed]",
      "text/plain": [
       "<Figure size 432x288 with 1 Axes>"
      ]
     },
     "metadata": {
      "needs_background": "light"
     },
     "output_type": "display_data"
    }
   ],
   "source": [
    "#Results\n",
    "_, ax = plt.subplots()\n",
    "ax = m5_fit_results.plot(ax=ax, kind='line', x='mod', y='Gc')\n",
    "ax = m5_fit_results.plot(ax=ax, kind='line', x='mod', y='Ghatc')\n",
    "ax.set_ylim((0, 1))\n",
    "plt.legend(loc='best')\n",
    "\n",
    "#Performance\n",
    "m5_fit_results.plot(x='mod', y='Phi', ylim=(0, 1))\n",
    "x = m5_fit_results['mod']\n",
    "y = m5_fit_results['Gc'] - m5_fit_results['Ghatc']\n",
    "print(\"AUC\", auc(x, y))\n",
    "plt.show()"
   ]
  },
  {
   "cell_type": "code",
   "execution_count": 50,
   "metadata": {},
   "outputs": [
    {
     "name": "stdout",
     "output_type": "stream",
     "text": [
      "AUC 12.882068464730292\n"
     ]
    },
    {
     "data": {
      "image/png": "[encoded data removed]",
      "text/plain": [
       "<Figure size 432x288 with 1 Axes>"
      ]
     },
     "metadata": {
      "needs_background": "light"
     },
     "output_type": "display_data"
    },
    {
     "data": {
      "image/png": "[encoded data removed]",
      "text/plain": [
       "<Figure size 432x288 with 1 Axes>"
      ]
     },
     "metadata": {
      "needs_background": "light"
     },
     "output_type": "display_data"
    }
   ],
   "source": [
    "#Results\n",
    "fig, ax = plt.subplots()\n",
    "ax = m5_test_results.plot(ax=ax, kind='line', x='mod', y='Gc')\n",
    "ax = m5_test_results.plot(ax=ax, kind='line', x='mod', y='Ghatc')\n",
    "ax.set_ylim((0, 1))\n",
    "plt.legend(loc='best')\n",
    "\n",
    "#Performance\n",
    "x = m5_test_results['mod']\n",
    "y = m5_test_results['Gc'] - m5_test_results['Ghatc']\n",
    "print(\"AUC\", auc(x, y))\n",
    "m5_test_results.plot(x='mod', y='Phi', ylim=(0, 1))\n",
    "plt.show()"
   ]
  },
  {
   "cell_type": "code",
   "execution_count": 51,
   "metadata": {},
   "outputs": [
    {
     "data": {
      "image/png": "[encoded data removed]",
      "text/plain": [
       "<Figure size 432x288 with 1 Axes>"
      ]
     },
     "metadata": {
      "needs_background": "light"
     },
     "output_type": "display_data"
    },
    {
     "data": {
      "image/png": "[encoded data removed]",
      "text/plain": [
       "<Figure size 432x288 with 1 Axes>"
      ]
     },
     "metadata": {
      "needs_background": "light"
     },
     "output_type": "display_data"
    }
   ],
   "source": [
    "#Results\n",
    "fig, ax = plt.subplots()\n",
    "ax = greedy_fit_results.plot(ax=ax, kind='line', x='mod', y='Gc')\n",
    "ax = greedy_fit_results.plot(ax=ax, kind='line', x='mod', y='Ghatc')\n",
    "ax.set_ylim((0, 1))\n",
    "plt.legend(loc='best')\n",
    "\n",
    "#Performance\n",
    "greedy_fit_results.plot(x='mod', y='Phi', ylim=(0, 1))\n",
    "plt.show()"
   ]
  },
  {
   "cell_type": "code",
   "execution_count": 52,
   "metadata": {},
   "outputs": [
    {
     "data": {
      "image/png": "[encoded data removed]",
      "text/plain": [
       "<Figure size 432x288 with 1 Axes>"
      ]
     },
     "metadata": {
      "needs_background": "light"
     },
     "output_type": "display_data"
    },
    {
     "data": {
      "image/png": "[encoded data removed]",
      "text/plain": [
       "<Figure size 432x288 with 1 Axes>"
      ]
     },
     "metadata": {
      "needs_background": "light"
     },
     "output_type": "display_data"
    }
   ],
   "source": [
    "#Results\n",
    "fig, ax = plt.subplots()\n",
    "ax = greedy_test_results.plot(ax=ax, kind='line', x='mod', y='Gc')\n",
    "ax = greedy_test_results.plot(ax=ax, kind='line', x='mod', y='Ghatc')\n",
    "ax.set_ylim((0, 1))\n",
    "plt.legend(loc='best')\n",
    "\n",
    "#Performance\n",
    "greedy_test_results.plot(x='mod', y='Phi', ylim=(0, 1))\n",
    "plt.show()"
   ]
  },
  {
   "cell_type": "code",
   "execution_count": 53,
   "metadata": {
    "scrolled": false
   },
   "outputs": [
    {
     "name": "stdout",
     "output_type": "stream",
     "text": [
      "M5 AUC 2.346004098360661\n",
      "Greedy AUC 2.4417476580796267\n"
     ]
    },
    {
     "data": {
      "image/png": "[encoded data removed]",
      "text/plain": [
       "<Figure size 432x288 with 1 Axes>"
      ]
     },
     "metadata": {
      "needs_background": "light"
     },
     "output_type": "display_data"
    },
    {
     "data": {
      "image/png": "[encoded data removed]",
      "text/plain": [
       "<Figure size 432x288 with 1 Axes>"
      ]
     },
     "metadata": {
      "needs_background": "light"
     },
     "output_type": "display_data"
    }
   ],
   "source": [
    "#Alberg\n",
    "fig, ax = plt.subplots()\n",
    "ax = greedy_fit_results.plot(ax=ax, kind='line', x='mod', y='Gc')\n",
    "ax = greedy_fit_results.plot(ax=ax, kind='line', x='mod', y='Ghatc', label='GreedyGc')\n",
    "ax =     m5_fit_results.plot(ax=ax, kind='line', x='mod', y='Ghatc', label='M5Gc')\n",
    "ax.set_ylim((0, 1))\n",
    "plt.legend(loc='best')\n",
    "\n",
    "#AUC\n",
    "x = m5_fit_results['mod']\n",
    "y = m5_fit_results['Gc'] - m5_fit_results['Ghatc']\n",
    "m5_auc = auc(x, y)\n",
    "\n",
    "x = greedy_fit_results['mod']\n",
    "y = greedy_fit_results['Gc'] - greedy_fit_results['Ghatc']\n",
    "greedy_auc = auc(x, y)\n",
    "print(\"M5 AUC\", m5_auc)\n",
    "print(\"Greedy AUC\", greedy_auc)\n",
    "\n",
    "#Performance\n",
    "fig, ax = plt.subplots()\n",
    "ax = greedy_fit_results.plot(ax=ax, kind='line', x='mod', y='Phi', label='Greedy')\n",
    "ax =     m5_fit_results.plot(ax=ax, kind='line', x='mod', y='Phi', label='M5')\n",
    "# ax.set_ylim((0, 1))\n",
    "plt.legend(loc='best')\n",
    "plt.show()"
   ]
  },
  {
   "cell_type": "code",
   "execution_count": 54,
   "metadata": {
    "scrolled": true
   },
   "outputs": [
    {
     "data": {
      "text/plain": [
       "count    10.000000\n",
       "mean      0.931033\n",
       "std       0.039865\n",
       "min       0.854782\n",
       "25%       0.910191\n",
       "50%       0.924951\n",
       "75%       0.961846\n",
       "max       0.987903\n",
       "Name: Phi, dtype: float64"
      ]
     },
     "execution_count": 54,
     "metadata": {},
     "output_type": "execute_result"
    }
   ],
   "source": [
    "m5_fit_results['Phi'].describe()"
   ]
  },
  {
   "cell_type": "code",
   "execution_count": 55,
   "metadata": {},
   "outputs": [
    {
     "data": {
      "text/plain": [
       "count    10.000000\n",
       "mean      0.928730\n",
       "std       0.039645\n",
       "min       0.856831\n",
       "25%       0.906347\n",
       "50%       0.922507\n",
       "75%       0.960061\n",
       "max       0.986048\n",
       "Name: Phi, dtype: float64"
      ]
     },
     "execution_count": 55,
     "metadata": {},
     "output_type": "execute_result"
    }
   ],
   "source": [
    "greedy_fit_results['Phi'].describe()"
   ]
  },
  {
   "cell_type": "code",
   "execution_count": 56,
   "metadata": {},
   "outputs": [
    {
     "name": "stdout",
     "output_type": "stream",
     "text": [
      "M5 AUC 12.882068464730292\n",
      "Greedy AUC 12.183139995335596\n"
     ]
    },
    {
     "data": {
      "image/png": "[encoded data removed]",
      "text/plain": [
       "<Figure size 432x288 with 1 Axes>"
      ]
     },
     "metadata": {
      "needs_background": "light"
     },
     "output_type": "display_data"
    },
    {
     "data": {
      "image/png": "[encoded data removed]",
      "text/plain": [
       "<Figure size 432x288 with 1 Axes>"
      ]
     },
     "metadata": {
      "needs_background": "light"
     },
     "output_type": "display_data"
    }
   ],
   "source": [
    "#Alberg\n",
    "fig, ax = plt.subplots()\n",
    "ax = greedy_test_results.plot(ax=ax, kind='line', x='mod', y='Gc')\n",
    "ax = greedy_test_results.plot(ax=ax, kind='line', x='mod', y='Ghatc', label='GreedyGc')\n",
    "ax =     m5_test_results.plot(ax=ax, kind='line', x='mod', y='Ghatc', label='M5Gc')\n",
    "ax.set_ylim((0, 1))\n",
    "plt.legend(loc='best')\n",
    "\n",
    "#AUC\n",
    "x = m5_test_results['mod']\n",
    "y = m5_test_results['Gc'] - m5_test_results['Ghatc']\n",
    "m5_auc = auc(x, y)\n",
    "\n",
    "x = greedy_fit_results['mod']\n",
    "y = greedy_fit_results['Gc'] - greedy_test_results['Ghatc']\n",
    "greedy_auc = auc(x, y)\n",
    "print(\"M5 AUC\", m5_auc)\n",
    "print(\"Greedy AUC\", greedy_auc)\n",
    "\n",
    "#Performance\n",
    "fig, ax = plt.subplots()\n",
    "ax = greedy_test_results.plot(ax=ax, kind='line', x='mod', y='Phi', label='Greedy')\n",
    "ax =     m5_test_results.plot(ax=ax, kind='line', x='mod', y='Phi', label='M5')\n",
    "# ax.set_ylim((0, 1))\n",
    "plt.legend(loc='best')\n",
    "plt.show()"
   ]
  },
  {
   "cell_type": "code",
   "execution_count": 57,
   "metadata": {},
   "outputs": [
    {
     "data": {
      "text/plain": [
       "count    10.000000\n",
       "mean      0.650524\n",
       "std       0.053182\n",
       "min       0.526259\n",
       "25%       0.633447\n",
       "50%       0.656456\n",
       "75%       0.687243\n",
       "max       0.709055\n",
       "Name: Phi, dtype: float64"
      ]
     },
     "execution_count": 57,
     "metadata": {},
     "output_type": "execute_result"
    }
   ],
   "source": [
    "m5_test_results['Phi'].describe()"
   ]
  },
  {
   "cell_type": "code",
   "execution_count": 58,
   "metadata": {},
   "outputs": [
    {
     "data": {
      "text/plain": [
       "count    10.000000\n",
       "mean      0.659509\n",
       "std       0.053747\n",
       "min       0.532646\n",
       "25%       0.642299\n",
       "50%       0.665620\n",
       "75%       0.696405\n",
       "max       0.718016\n",
       "Name: Phi, dtype: float64"
      ]
     },
     "execution_count": 58,
     "metadata": {},
     "output_type": "execute_result"
    }
   ],
   "source": [
    "greedy_test_results['Phi'].describe()"
   ]
  },
  {
   "cell_type": "code",
   "execution_count": 28,
   "metadata": {},
   "outputs": [
    {
     "data": {
      "text/plain": [
       "F_onewayResult(statistic=0.01678889749848125, pvalue=0.8983420113125209)"
      ]
     },
     "execution_count": 28,
     "metadata": {},
     "output_type": "execute_result"
    }
   ],
   "source": [
    "f_oneway(m5_fit_results['phi'], greedy_fit_results['phi'])"
   ]
  },
  {
   "cell_type": "code",
   "execution_count": null,
   "metadata": {},
   "outputs": [],
   "source": []
  },
  {
   "cell_type": "code",
   "execution_count": null,
   "metadata": {},
   "outputs": [],
   "source": []
  },
  {
   "cell_type": "code",
   "execution_count": null,
   "metadata": {},
   "outputs": [],
   "source": []
  },
  {
   "cell_type": "code",
   "execution_count": null,
   "metadata": {},
   "outputs": [],
   "source": []
  },
  {
   "cell_type": "code",
   "execution_count": null,
   "metadata": {},
   "outputs": [],
   "source": []
  }
 ],
 "metadata": {
  "kernelspec": {
   "display_name": "Python 3",
   "language": "python",
   "name": "python3"
  },
  "language_info": {
   "codemirror_mode": {
    "name": "ipython",
    "version": 3
   },
   "file_extension": ".py",
   "mimetype": "text/x-python",
   "name": "python",
   "nbconvert_exporter": "python",
   "pygments_lexer": "ipython3",
   "version": "3.7.1"
  }
 },
 "nbformat": 4,
 "nbformat_minor": 2
}
